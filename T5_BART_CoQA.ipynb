{
  "cells": [
    {
      "cell_type": "code",
      "execution_count": null,
      "metadata": {
        "id": "Kn8nx3AqTva1"
      },
      "outputs": [],
      "source": [
        "!nvidia-smi"
      ]
    },
    {
      "cell_type": "code",
      "execution_count": null,
      "metadata": {
        "id": "zGFlvBYwTP14"
      },
      "outputs": [],
      "source": [
        "cd /T5"
      ]
    },
    {
      "cell_type": "code",
      "execution_count": null,
      "metadata": {
        "id": "OlKjvDj1UeUb"
      },
      "outputs": [],
      "source": [
        "!pip install -r requirements.txt\n",
        "!pip install transformers==4.19.0"
      ]
    },
    {
      "cell_type": "markdown",
      "source": [
        "<h2> HS p = 4"
      ],
      "metadata": {
        "id": "9bGUgCfeMIn_"
      }
    },
    {
      "cell_type": "code",
      "source": [
        "!rm -rf /content/gdrive/MyDrive/A/factoid_one_focus/CoQA/T5-BART/Ablation-studies-p-HS/output-4"
      ],
      "metadata": {
        "id": "xCM_iXwtNG5z"
      },
      "execution_count": null,
      "outputs": []
    },
    {
      "cell_type": "code",
      "source": [
        "TRAIN_PATH = '/content/gdrive/MyDrive/A/factoid_one_focus/CoQA/T5-BART/Ablation-studies-p-HS/train_HS.csv'\n",
        "VALID_PATH = '/content/gdrive/MyDrive/A/factoid_one_focus/CoQA/T5-BART/Ablation-studies-p-HS/valid_HS.csv'\n",
        "TEST_PATH = VALID_PATH\n",
        "OUT_PATH = '/content/gdrive/MyDrive/A/factoid_one_focus/CoQA/T5-BART/Ablation-studies-p-HS/output-4'"
      ],
      "metadata": {
        "id": "f8UR4cQ2MKZB"
      },
      "execution_count": null,
      "outputs": []
    },
    {
      "cell_type": "code",
      "source": [
        "! python run_summarization.py \\\n",
        "    --model_name_or_path t5-base \\\n",
        "    --do_train \\\n",
        "    --do_eval \\\n",
        "    --do_predict \\\n",
        "    --train_file $TRAIN_PATH \\\n",
        "    --validation_file $VALID_PATH \\\n",
        "    --test_file $TEST_PATH\\\n",
        "    --text_column context_HS_4 \\\n",
        "    --summary_column Summary \\\n",
        "    --source_prefix \"question_generation: \" \\\n",
        "    --output_dir $OUT_PATH \\\n",
        "    --logging_dir $OUT_PATH \\\n",
        "    --per_device_train_batch_size=4 \\\n",
        "    --per_device_eval_batch_size=4 \\\n",
        "    --gradient_accumulation_steps=1 \\\n",
        "    --predict_with_generate=True \\\n",
        "    --learning_rate=0.0001 \\\n",
        "    --num_beams=4 \\\n",
        "    --max_steps=60000 \\\n",
        "    --max_source_length=512 \\\n",
        "    --save_steps=1000 \\\n",
        "    --eval_steps=1000 \\\n",
        "    --evaluation_strategy steps \\\n",
        "    --load_best_model \\\n",
        "    --metric_for_best_model rougeL \\"
      ],
      "metadata": {
        "id": "GKnEB3OVMNes"
      },
      "execution_count": null,
      "outputs": []
    },
    {
      "cell_type": "markdown",
      "source": [
        "<h2> CAHS p = 10"
      ],
      "metadata": {
        "id": "YDQ9UdGs-jJl"
      }
    },
    {
      "cell_type": "code",
      "source": [
        "TRAIN_PATH = '/content/gdrive/MyDrive/A/factoid_one_focus/CoQA/T5-BART/Ablation-studies-dynamic-context-history/train-dynamic-context-history.csv'\n",
        "VALID_PATH = '/content/gdrive/MyDrive/A/factoid_one_focus/CoQA/T5-BART/Ablation-studies-dynamic-context-history/valid-dynamic-context-history.csv'\n",
        "TEST_PATH = VALID_PATH\n",
        "OUT_PATH = '/content/gdrive/MyDrive/A/factoid_one_focus/CoQA/T5-BART/Ablation-studies-dynamic-context-history/output-10'"
      ],
      "metadata": {
        "id": "eU-h5QSG-lZY"
      },
      "execution_count": null,
      "outputs": []
    },
    {
      "cell_type": "code",
      "source": [
        "! python run_summarization.py \\\n",
        "    --model_name_or_path t5-base \\\n",
        "    --do_train \\\n",
        "    --do_eval \\\n",
        "    --do_predict \\\n",
        "    --train_file $TRAIN_PATH \\\n",
        "    --validation_file $VALID_PATH \\\n",
        "    --test_file $TEST_PATH\\\n",
        "    --text_column processed_context_p_10 \\\n",
        "    --summary_column Summary \\\n",
        "    --source_prefix \"question_generation: \" \\\n",
        "    --output_dir $OUT_PATH \\\n",
        "    --logging_dir $OUT_PATH \\\n",
        "    --per_device_train_batch_size=4 \\\n",
        "    --per_device_eval_batch_size=4 \\\n",
        "    --gradient_accumulation_steps=1 \\\n",
        "    --predict_with_generate=True \\\n",
        "    --learning_rate=0.00005 \\\n",
        "    --num_beams=4 \\\n",
        "    --max_steps=60000 \\\n",
        "    --max_source_length=512 \\\n",
        "    --save_steps=1000 \\\n",
        "    --eval_steps=1000 \\\n",
        "    --evaluation_strategy steps \\\n",
        "    --load_best_model \\\n",
        "    --metric_for_best_model rougeL \\"
      ],
      "metadata": {
        "id": "hTP6cKYk-n5L"
      },
      "execution_count": null,
      "outputs": []
    },
    {
      "cell_type": "markdown",
      "source": [
        "<h2> CAHS p = 7"
      ],
      "metadata": {
        "id": "fKovRkwM8Bh5"
      }
    },
    {
      "cell_type": "code",
      "source": [
        "TRAIN_PATH = '/content/gdrive/MyDrive/A/factoid_one_focus/CoQA/T5-BART/Ablation-studies-dynamic-context-history/train-dynamic-context-history.csv'\n",
        "VALID_PATH = '/content/gdrive/MyDrive/A/factoid_one_focus/CoQA/T5-BART/Ablation-studies-dynamic-context-history/valid-dynamic-context-history.csv'\n",
        "TEST_PATH = VALID_PATH\n",
        "OUT_PATH = '/content/gdrive/MyDrive/A/factoid_one_focus/CoQA/T5-BART/Ablation-studies-dynamic-context-history/output-7'"
      ],
      "metadata": {
        "id": "bKHcQTFt8C5S"
      },
      "execution_count": null,
      "outputs": []
    },
    {
      "cell_type": "code",
      "source": [
        "! python run_summarization.py \\\n",
        "    --model_name_or_path t5-base \\\n",
        "    --do_train \\\n",
        "    --do_eval \\\n",
        "    --do_predict \\\n",
        "    --train_file $TRAIN_PATH \\\n",
        "    --validation_file $VALID_PATH \\\n",
        "    --test_file $TEST_PATH\\\n",
        "    --text_column processed_context_p_7 \\\n",
        "    --summary_column Summary \\\n",
        "    --source_prefix \"question_generation: \" \\\n",
        "    --output_dir $OUT_PATH \\\n",
        "    --logging_dir $OUT_PATH \\\n",
        "    --per_device_train_batch_size=4 \\\n",
        "    --per_device_eval_batch_size=4 \\\n",
        "    --gradient_accumulation_steps=1 \\\n",
        "    --predict_with_generate=True \\\n",
        "    --learning_rate=0.00005 \\\n",
        "    --num_beams=4 \\\n",
        "    --max_steps=110000 \\\n",
        "    --max_source_length=512 \\\n",
        "    --save_steps=1000 \\\n",
        "    --eval_steps=1000 \\\n",
        "    --evaluation_strategy steps \\\n",
        "    --load_best_model \\\n",
        "    --metric_for_best_model rougeL \\"
      ],
      "metadata": {
        "id": "okT26SM-8It-"
      },
      "execution_count": null,
      "outputs": []
    },
    {
      "cell_type": "markdown",
      "source": [
        "<h3> CAHS p = 5"
      ],
      "metadata": {
        "id": "LpCkmaFuBMD9"
      }
    },
    {
      "cell_type": "code",
      "source": [
        "TRAIN_PATH = '/content/gdrive/MyDrive/A/factoid_one_focus/CoQA/T5-BART/Ablation-studies-dynamic-context-history/train-dynamic-context-history.csv'\n",
        "VALID_PATH = '/content/gdrive/MyDrive/A/factoid_one_focus/CoQA/T5-BART/Ablation-studies-dynamic-context-history/valid-dynamic-context-history.csv'\n",
        "TEST_PATH = VALID_PATH\n",
        "OUT_PATH = '/content/gdrive/MyDrive/A/factoid_one_focus/CoQA/T5-BART/Ablation-studies-dynamic-context-history/output-5'"
      ],
      "metadata": {
        "id": "wbA76js5BMy4"
      },
      "execution_count": null,
      "outputs": []
    },
    {
      "cell_type": "code",
      "source": [
        "! python run_summarization.py \\\n",
        "    --model_name_or_path t5-base \\\n",
        "    --do_train \\\n",
        "    --do_eval \\\n",
        "    --do_predict \\\n",
        "    --train_file $TRAIN_PATH \\\n",
        "    --validation_file $VALID_PATH \\\n",
        "    --test_file $TEST_PATH\\\n",
        "    --text_column processed_context_p_5 \\\n",
        "    --summary_column Summary \\\n",
        "    --source_prefix \"question_generation: \" \\\n",
        "    --output_dir $OUT_PATH \\\n",
        "    --logging_dir $OUT_PATH \\\n",
        "    --per_device_train_batch_size=4 \\\n",
        "    --per_device_eval_batch_size=4 \\\n",
        "    --gradient_accumulation_steps=1 \\\n",
        "    --predict_with_generate=True \\\n",
        "    --learning_rate=0.00005 \\\n",
        "    --num_beams=4 \\\n",
        "    --max_steps=60000 \\\n",
        "    --max_source_length=512 \\\n",
        "    --save_steps=1000 \\\n",
        "    --eval_steps=1000 \\\n",
        "    --evaluation_strategy steps \\\n",
        "    --load_best_model \\\n",
        "    --metric_for_best_model rougeL \\"
      ],
      "metadata": {
        "id": "Cp-aoGPnBRY7"
      },
      "execution_count": null,
      "outputs": []
    },
    {
      "cell_type": "markdown",
      "metadata": {
        "id": "uiPe457eA0zb"
      },
      "source": [
        "<h2> Statistics"
      ]
    },
    {
      "cell_type": "code",
      "execution_count": null,
      "metadata": {
        "id": "LbJaehth_-zN"
      },
      "outputs": [],
      "source": [
        "import csv\n",
        "\n",
        "TRAIN_FILE = '/content/gdrive/MyDrive/A/factoid_one_focus/CoQA/T5-BART/Ablation-studies-p/p_0_0_train-5-turns.csv'\n",
        "TEST_FILE = '/content/gdrive/MyDrive/A/factoid_one_focus/CoQA/T5-BART/Ablation-studies-p/p_0_0_valid-5-turns.csv'\n",
        "from nltk.tokenize import word_tokenize\n",
        "import nltk\n",
        "nltk.download('punkt')\n",
        "from tqdm import tqdm\n",
        "\n",
        "num_sentences = 0\n",
        "num_tokens = 0\n",
        "num_samples = 0\n",
        "\n",
        "rows = []\n",
        "for FILE_NAME in [TRAIN_FILE, TEST_FILE]:\n",
        "  with open(FILE_NAME) as file:\n",
        "    csvreader = csv.reader(file)\n",
        "    header = next(csvreader)\n",
        "    print(header)\n",
        "    for row in tqdm(csvreader):\n",
        "      context_and_his = row[5].split('Context:')[1].strip()\n",
        "      context = context_and_his.split(' <s> ')[0].strip()\n",
        "\n",
        "      num_sentences += len(nltk.sent_tokenize(context))\n",
        "      num_tokens += len(word_tokenize(context))\n",
        "      num_samples += 1\n",
        "\n",
        "print('Avg. #Sentences ', str(num_sentences/num_samples))\n",
        "print('Avg. #Tokens ', str(num_tokens/num_samples))"
      ]
    },
    {
      "cell_type": "code",
      "source": [
        "!pip install nltk==3.5\n",
        "!pip install bert-score"
      ],
      "metadata": {
        "id": "2LZYyYMV9F3D"
      },
      "execution_count": null,
      "outputs": []
    },
    {
      "cell_type": "code",
      "source": [
        "!pip install rouge-score"
      ],
      "metadata": {
        "id": "hNAV_m-U8yuL"
      },
      "execution_count": null,
      "outputs": []
    },
    {
      "cell_type": "code",
      "source": [
        "import nltk\n",
        "nltk.download('wordnet')"
      ],
      "metadata": {
        "id": "DVhM4X2K9VPI"
      },
      "execution_count": null,
      "outputs": []
    },
    {
      "cell_type": "code",
      "execution_count": null,
      "metadata": {
        "id": "0xiYf-DEG88U"
      },
      "outputs": [],
      "source": [
        "GROUND_TRUTH = '/content/gdrive/MyDrive/A/factoid_one_focus/CoQA/T5-BART/T5-BART-base.txt'\n",
        "GENERATED = '/content/gdrive/MyDrive/A/factoid_one_focus/CoQA/T5-BART/Ablation-studies-dynamic-context-history/output-7/generated_predictions.txt'"
      ]
    },
    {
      "cell_type": "code",
      "execution_count": null,
      "metadata": {
        "id": "E48SDzvOHZQR"
      },
      "outputs": [],
      "source": [
        "!python /content/gdrive/MyDrive/A/factoid_one_focus/evaluation/corpus_bleu.py $GENERATED $GROUND_TRUTH"
      ]
    },
    {
      "cell_type": "code",
      "execution_count": null,
      "metadata": {
        "id": "RYXwbxCKHFD2"
      },
      "outputs": [],
      "source": [
        "!python /content/gdrive/MyDrive/A/factoid_one_focus/evaluation/eval_rouge.py $GENERATED $GROUND_TRUTH"
      ]
    },
    {
      "cell_type": "code",
      "source": [
        "!python /content/gdrive/MyDrive/A/factoid_one_focus/evaluation/eval_meteor.py $GENERATED $GROUND_TRUTH"
      ],
      "metadata": {
        "id": "Hfhe-eyD9MzA"
      },
      "execution_count": null,
      "outputs": []
    },
    {
      "cell_type": "code",
      "source": [
        "!bert-score -r $GROUND_TRUTH -c $GENERATED --lang en"
      ],
      "metadata": {
        "id": "6FcMbH4J9NqO"
      },
      "execution_count": null,
      "outputs": []
    },
    {
      "cell_type": "markdown",
      "metadata": {
        "id": "UQ1SPhf_Y5Kt"
      },
      "source": [
        "<h2> Ablation studies"
      ]
    },
    {
      "cell_type": "markdown",
      "metadata": {
        "id": "-M9OwgiHNAF2"
      },
      "source": [
        "<h2> p = 7"
      ]
    },
    {
      "cell_type": "code",
      "execution_count": null,
      "metadata": {
        "id": "WADe2rLKNB9G"
      },
      "outputs": [],
      "source": [
        "TRAIN_PATH = '/content/gdrive/MyDrive/A/factoid_one_focus/CoQA/T5-BART/Ablation-studies-p/p_7_0_train-5-turns.csv'\n",
        "VALID_PATH = '/content/gdrive/MyDrive/A/factoid_one_focus/CoQA/T5-BART/Ablation-studies-p/p_7_0_valid-5-turns.csv'\n",
        "TEST_PATH = VALID_PATH\n",
        "OUT_PATH = '/content/gdrive/MyDrive/A/factoid_one_focus/CoQA/T5-BART/Ablation-studies-p/output-7'"
      ]
    },
    {
      "cell_type": "code",
      "execution_count": null,
      "metadata": {
        "id": "6mrW-0-gNDF_"
      },
      "outputs": [],
      "source": [
        "! python run_summarization.py \\\n",
        "    --model_name_or_path t5-base \\\n",
        "    --do_train \\\n",
        "    --do_eval \\\n",
        "    --do_predict \\\n",
        "    --train_file $TRAIN_PATH \\\n",
        "    --validation_file $VALID_PATH \\\n",
        "    --test_file $TEST_PATH\\\n",
        "    --text_column processed_context \\\n",
        "    --summary_column Summary \\\n",
        "    --source_prefix \"question_generation: \" \\\n",
        "    --output_dir $OUT_PATH \\\n",
        "    --logging_dir $OUT_PATH \\\n",
        "    --per_device_train_batch_size=2 \\\n",
        "    --per_device_eval_batch_size=2 \\\n",
        "    --gradient_accumulation_steps=2 \\\n",
        "    --predict_with_generate=True \\\n",
        "    --learning_rate=0.0001 \\\n",
        "    --num_beams=4 \\\n",
        "    --max_steps=55000 \\\n",
        "    --max_source_length=1024 \\\n",
        "    --save_steps=1000 \\\n",
        "    --eval_steps=1000 \\\n",
        "    --evaluation_strategy steps \\\n",
        "    --load_best_model \\\n",
        "    --metric_for_best_model rougeL \\"
      ]
    },
    {
      "cell_type": "markdown",
      "source": [
        "<h3> Max 1 turns"
      ],
      "metadata": {
        "id": "3PmI3Hx1mXIx"
      }
    },
    {
      "cell_type": "code",
      "source": [
        "TRAIN_PATH = \"/content/gdrive/MyDrive/A/factoid_one_focus/CoQA/T5-BART/Ablation-studies/TEST_train_QA_max_n_turns_with_input_QG.csv\"\n",
        "VALID_PATH = \"/content/gdrive/MyDrive/A/factoid_one_focus/CoQA/T5-BART/Ablation-studies/TEST_valid_QA_max_n_turns_with_input_QG.csv\"\n",
        "TEST_PATH = VALID_PATH\n",
        "OUT_PATH = \"/content/gdrive/MyDrive/A/factoid_one_focus/CoQA/T5-BART/Ablation-studies/output-T5-max-1-turns\""
      ],
      "metadata": {
        "id": "55d6RSN3mavV"
      },
      "execution_count": null,
      "outputs": []
    },
    {
      "cell_type": "code",
      "source": [
        "! python run_summarization.py \\\n",
        "    --model_name_or_path t5-base \\\n",
        "    --do_train \\\n",
        "    --do_eval \\\n",
        "    --do_predict \\\n",
        "    --train_file $TRAIN_PATH \\\n",
        "    --validation_file $VALID_PATH \\\n",
        "    --test_file $TEST_PATH\\\n",
        "    --text_column context_max_1_turns \\\n",
        "    --summary_column Summary \\\n",
        "    --source_prefix \"question_generation: \" \\\n",
        "    --output_dir $OUT_PATH \\\n",
        "    --logging_dir $OUT_PATH \\\n",
        "    --per_device_train_batch_size=2 \\\n",
        "    --per_device_eval_batch_size=2 \\\n",
        "    --gradient_accumulation_steps=2 \\\n",
        "    --predict_with_generate=True \\\n",
        "    --learning_rate=0.0001 \\\n",
        "    --num_beams=4 \\\n",
        "    --max_steps=70000 \\\n",
        "    --max_source_length=512 \\\n",
        "    --save_steps=1000 \\\n",
        "    --eval_steps=1000 \\\n",
        "    --evaluation_strategy steps \\\n",
        "    --load_best_model \\\n",
        "    --metric_for_best_model rougeL"
      ],
      "metadata": {
        "id": "I5pasPttnJ7Y"
      },
      "execution_count": null,
      "outputs": []
    },
    {
      "cell_type": "markdown",
      "source": [
        "<h3> Max 2 turns"
      ],
      "metadata": {
        "id": "1Y590wtcpHcM"
      }
    },
    {
      "cell_type": "code",
      "source": [
        "TRAIN_PATH = '/content/gdrive/MyDrive/A/factoid_one_focus/CoQA/T5-BART/Ablation-studies/TEST_train_QA_max_n_turns_with_input_QG.csv'\n",
        "VALID_PATH = '/content/gdrive/MyDrive/A/factoid_one_focus/CoQA/T5-BART/Ablation-studies/TEST_valid_QA_max_n_turns_with_input_QG.csv'\n",
        "TEST_PATH = VALID_PATH\n",
        "OUT_PATH = '/content/gdrive/MyDrive/A/factoid_one_focus/CoQA/T5-BART/Ablation-studies/output-T5-max-2-turns'"
      ],
      "metadata": {
        "id": "b26HGJwDpLXt"
      },
      "execution_count": null,
      "outputs": []
    },
    {
      "cell_type": "code",
      "source": [
        "! python run_summarization.py \\\n",
        "    --model_name_or_path t5-base \\\n",
        "    --do_train \\\n",
        "    --do_eval \\\n",
        "    --do_predict \\\n",
        "    --train_file $TRAIN_PATH \\\n",
        "    --validation_file $VALID_PATH \\\n",
        "    --test_file $TEST_PATH\\\n",
        "    --text_column context_max_2_turns \\\n",
        "    --summary_column Summary \\\n",
        "    --source_prefix \"question_generation: \" \\\n",
        "    --output_dir $OUT_PATH \\\n",
        "    --logging_dir $OUT_PATH \\\n",
        "    --per_device_train_batch_size=2 \\\n",
        "    --per_device_eval_batch_size=2 \\\n",
        "    --gradient_accumulation_steps=2 \\\n",
        "    --predict_with_generate=True \\\n",
        "    --learning_rate=0.0001 \\\n",
        "    --num_beams=4 \\\n",
        "    --max_steps=70000 \\\n",
        "    --max_source_length=512 \\\n",
        "    --save_steps=1000 \\\n",
        "    --eval_steps=1000 \\\n",
        "    --evaluation_strategy steps \\\n",
        "    --load_best_model \\\n",
        "    --metric_for_best_model rougeL"
      ],
      "metadata": {
        "id": "SdcuraHbpSEG"
      },
      "execution_count": null,
      "outputs": []
    },
    {
      "cell_type": "markdown",
      "metadata": {
        "id": "ZY3D868KY8Q1"
      },
      "source": [
        "<h3> Max 6 turns"
      ]
    },
    {
      "cell_type": "code",
      "execution_count": null,
      "metadata": {
        "id": "j1X2DM8SZBXS"
      },
      "outputs": [],
      "source": [
        "TRAIN_PATH = '/content/gdrive/MyDrive/A/factoid_one_focus/CoQA/T5-BART/Ablation-studies/TEST_train_QA_max_n_turns_with_input_QG.csv'\n",
        "VALID_PATH = '/content/gdrive/MyDrive/A/factoid_one_focus/CoQA/T5-BART/Ablation-studies/TEST_valid_QA_max_n_turns_with_input_QG.csv'\n",
        "TEST_PATH = VALID_PATH\n",
        "OUT_PATH = '/content/gdrive/MyDrive/A/factoid_one_focus/CoQA/T5-BART/Ablation-studies/output-T5-max-6-turns'"
      ]
    },
    {
      "cell_type": "code",
      "execution_count": null,
      "metadata": {
        "id": "i1zQethCZniM"
      },
      "outputs": [],
      "source": [
        "! python run_summarization.py \\\n",
        "    --model_name_or_path t5-base \\\n",
        "    --do_train \\\n",
        "    --do_eval \\\n",
        "    --do_predict \\\n",
        "    --train_file $TRAIN_PATH \\\n",
        "    --validation_file $VALID_PATH \\\n",
        "    --test_file $TEST_PATH\\\n",
        "    --text_column context_max_6_turns \\\n",
        "    --summary_column Summary \\\n",
        "    --source_prefix \"question_generation: \" \\\n",
        "    --output_dir $OUT_PATH \\\n",
        "    --logging_dir $OUT_PATH \\\n",
        "    --per_device_train_batch_size=2 \\\n",
        "    --per_device_eval_batch_size=2 \\\n",
        "    --gradient_accumulation_steps=2 \\\n",
        "    --predict_with_generate=True \\\n",
        "    --learning_rate=0.0001 \\\n",
        "    --num_beams=4 \\\n",
        "    --max_steps=60000 \\\n",
        "    --max_source_length=512 \\\n",
        "    --save_steps=1000 \\\n",
        "    --eval_steps=1000 \\\n",
        "    --evaluation_strategy steps \\\n",
        "    --load_best_model \\\n",
        "    --metric_for_best_model rougeL \\"
      ]
    },
    {
      "cell_type": "markdown",
      "metadata": {
        "id": "64-ib6tGa9BC"
      },
      "source": [
        "<h2> T5 + QS"
      ]
    },
    {
      "cell_type": "code",
      "execution_count": null,
      "metadata": {
        "id": "nT51IfA6a-_T"
      },
      "outputs": [],
      "source": [
        "TRAIN_PATH = '/content/gdrive/MyDrive/A/factoid_one_focus/CoQA/T5-BART/TEST_train_QA_max_5_turns_with_input_QG.csv'\n",
        "VAL_PATH = '/content/gdrive/MyDrive/A/factoid_one_focus/CoQA/T5-BART/TEST_valid_QA_max_5_turns_with_input_QG.csv'\n",
        "TEST_PATH = VAL_PATH\n",
        "OUT_PATH = '/content/gdrive/MyDrive/A/factoid_one_focus/CoQA/T5-BART/QG-Yes-No/output-T5-QS'"
      ]
    },
    {
      "cell_type": "code",
      "execution_count": null,
      "metadata": {
        "id": "Fqk04liJbK6O"
      },
      "outputs": [],
      "source": [
        "! python run_summarization.py \\\n",
        "    --model_name_or_path t5-base \\\n",
        "    --do_train \\\n",
        "    --do_eval \\\n",
        "    --do_predict \\\n",
        "    --train_file $TRAIN_PATH \\\n",
        "    --validation_file $VAL_PATH \\\n",
        "    --test_file $TEST_PATH\\\n",
        "    --text_column context_full_history \\\n",
        "    --summary_column Summary \\\n",
        "    --source_prefix \"question_generation: \" \\\n",
        "    --output_dir $OUT_PATH \\\n",
        "    --logging_dir $OUT_PATH \\\n",
        "    --per_device_train_batch_size=4 \\\n",
        "    --per_device_eval_batch_size=4 \\\n",
        "    --gradient_accumulation_steps=1 \\\n",
        "    --predict_with_generate=True \\\n",
        "    --learning_rate=0.0001 \\\n",
        "    --num_beams=4 \\\n",
        "    --max_steps=50000 \\\n",
        "    --max_source_length=512 \\\n",
        "    --save_steps=1000 \\\n",
        "    --eval_steps=1000 \\\n",
        "    --evaluation_strategy steps \\\n",
        "    --load_best_model \\\n",
        "    --metric_for_best_model rougeL \\\n",
        "    --overwrite_output_dir \\"
      ]
    },
    {
      "cell_type": "markdown",
      "metadata": {
        "id": "5IUL9CyU0UGG"
      },
      "source": [
        "<h2> Max 5 last turns <h2>"
      ]
    },
    {
      "cell_type": "code",
      "execution_count": null,
      "metadata": {
        "id": "thpA0dxB0XFV"
      },
      "outputs": [],
      "source": [
        "TRAIN_PATH = '/content/gdrive/MyDrive/A/factoid_one_focus/CoQA/T5-BART/train_QA_max_5_turns.csv'\n",
        "VAL_PATH = '/content/gdrive/MyDrive/A/factoid_one_focus/CoQA/T5-BART/valid_QA_max_5_turns.csv'\n",
        "TEST_PATH = VAL_PATH\n",
        "OUT_PATH = '/content/gdrive/MyDrive/A/factoid_one_focus/CoQA/T5-BART/output-T5-QG-max-5-turns'"
      ]
    },
    {
      "cell_type": "code",
      "execution_count": null,
      "metadata": {
        "id": "nf0kd03q0Xxj"
      },
      "outputs": [],
      "source": [
        "! python run_summarization.py \\\n",
        "    --model_name_or_path t5-base \\\n",
        "    --do_train \\\n",
        "    --do_eval \\\n",
        "    --do_predict \\\n",
        "    --train_file $TRAIN_PATH \\\n",
        "    --validation_file $VAL_PATH \\\n",
        "    --test_file $TEST_PATH\\\n",
        "    --text_column context_max_5_turns \\\n",
        "    --summary_column Summary \\\n",
        "    --source_prefix \"translate Chart to Text: \" \\\n",
        "    --output_dir $OUT_PATH \\\n",
        "    --logging_dir $OUT_PATH \\\n",
        "    --per_device_train_batch_size=2 \\\n",
        "    --per_device_eval_batch_size=2 \\\n",
        "    --gradient_accumulation_steps=2 \\\n",
        "    --predict_with_generate=True \\\n",
        "    --learning_rate=0.00005 \\\n",
        "    --num_beams=4 \\\n",
        "    --max_steps=70000 \\\n",
        "    --max_source_length=1024 \\\n",
        "    --save_steps=1000 \\\n",
        "    --eval_steps=1000 \\\n",
        "    --evaluation_strategy steps \\\n",
        "    --load_best_model \\"
      ]
    }
  ],
  "metadata": {
    "accelerator": "GPU",
    "colab": {
      "provenance": []
    },
    "kernelspec": {
      "display_name": "Python 3",
      "name": "python3"
    },
    "language_info": {
      "name": "python"
    },
    "gpuClass": "standard"
  },
  "nbformat": 4,
  "nbformat_minor": 0
}